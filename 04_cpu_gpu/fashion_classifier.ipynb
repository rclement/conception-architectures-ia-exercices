{
  "cells": [
    {
      "attachments": {},
      "cell_type": "markdown",
      "id": "534323ae",
      "metadata": {
        "id": "534323ae"
      },
      "source": [
        "# Fashion Classifier\n",
        "\n",
        "> Utilisation du jeu de données \"Fashion MNIST\" to entraîner un classificateur de vétêments de mode avec Keras / Tensorflow"
      ]
    },
    {
      "cell_type": "code",
      "execution_count": null,
      "id": "d00a5d0f",
      "metadata": {
        "id": "d00a5d0f"
      },
      "outputs": [],
      "source": [
        "import matplotlib.pyplot as plt\n",
        "import numpy as np\n",
        "import pandas as pd\n",
        "\n",
        "from matplotlib_inline.backend_inline import set_matplotlib_formats\n",
        "from tensorflow import keras\n",
        "\n",
        "set_matplotlib_formats(\"svg\")"
      ]
    },
    {
      "attachments": {},
      "cell_type": "markdown",
      "id": "1d5e2d64",
      "metadata": {
        "id": "1d5e2d64"
      },
      "source": [
        "## Chargement du jeu de données\n",
        "\n",
        "Chargeons le jeu de données depuis Keras :"
      ]
    },
    {
      "cell_type": "code",
      "execution_count": null,
      "id": "eabce8d4",
      "metadata": {
        "id": "eabce8d4"
      },
      "outputs": [],
      "source": [
        "(X_train_full, y_train_full), (X_test, y_test) = keras.datasets.fashion_mnist.load_data()"
      ]
    },
    {
      "cell_type": "code",
      "execution_count": null,
      "id": "4f747cf1",
      "metadata": {
        "colab": {
          "base_uri": "https://localhost:8080/"
        },
        "id": "4f747cf1",
        "outputId": "52ceba36-23a9-423a-da04-ab28973246ea"
      },
      "outputs": [],
      "source": [
        "X_train_full.shape"
      ]
    },
    {
      "cell_type": "code",
      "execution_count": null,
      "id": "deb75550",
      "metadata": {
        "colab": {
          "base_uri": "https://localhost:8080/"
        },
        "id": "deb75550",
        "outputId": "074a5611-3b13-4044-cd47-fc5e4f0fe583"
      },
      "outputs": [],
      "source": [
        "X_test.shape"
      ]
    },
    {
      "cell_type": "code",
      "execution_count": null,
      "id": "79e1e910",
      "metadata": {
        "colab": {
          "base_uri": "https://localhost:8080/"
        },
        "id": "79e1e910",
        "outputId": "1dbf739d-7555-43fc-c088-c344f43edfa2"
      },
      "outputs": [],
      "source": [
        "y_test.shape"
      ]
    },
    {
      "attachments": {},
      "cell_type": "markdown",
      "id": "cbad054a",
      "metadata": {
        "id": "cbad054a"
      },
      "source": [
        "Normalisons les pixels des images entre 0 et 1 :"
      ]
    },
    {
      "cell_type": "code",
      "execution_count": null,
      "id": "bb7e6492",
      "metadata": {
        "id": "bb7e6492"
      },
      "outputs": [],
      "source": [
        "X_train = X_train_full / 255.0\n",
        "X_test = X_test / 255.0\n",
        "\n",
        "X_train = X_train[..., np.newaxis]\n",
        "X_test = X_test[..., np.newaxis]"
      ]
    },
    {
      "attachments": {},
      "cell_type": "markdown",
      "id": "4ed78166",
      "metadata": {
        "id": "4ed78166"
      },
      "source": [
        "Ajoutons les noms des classes au jeu de données (source : https://keras.io/api/datasets/fashion_mnist/) :"
      ]
    },
    {
      "cell_type": "code",
      "execution_count": null,
      "id": "8b9f3c40",
      "metadata": {
        "id": "8b9f3c40"
      },
      "outputs": [],
      "source": [
        "class_names = [\n",
        "    \"T-shirt/top\",\n",
        "    \"Trouser\",\n",
        "    \"Pullover\",\n",
        "    \"Dress\",\n",
        "    \"Coat\",\n",
        "    \"Sandal\",\n",
        "    \"Shirt\",\n",
        "    \"Sneaker\",\n",
        "    \"Bag\",\n",
        "    \"Ankle boot\",\n",
        "]"
      ]
    },
    {
      "cell_type": "code",
      "execution_count": null,
      "id": "4fa0e1c8",
      "metadata": {
        "colab": {
          "base_uri": "https://localhost:8080/",
          "height": 704
        },
        "id": "4fa0e1c8",
        "outputId": "a45ab18a-8a04-437c-b228-6a5d95264fe7"
      },
      "outputs": [],
      "source": [
        "plt.figure(figsize=(12, 10))\n",
        "for i in range(40):\n",
        "    ax = plt.subplot(4, 10, i + 1)\n",
        "    plt.imshow(X_train[i,:,:,0], cmap=\"binary\")\n",
        "    plt.title(class_names[y_train_full[i]])\n",
        "    plt.axis(\"off\")"
      ]
    },
    {
      "attachments": {},
      "cell_type": "markdown",
      "id": "3f4fc9b6",
      "metadata": {
        "id": "3f4fc9b6"
      },
      "source": [
        "## Construction du modèle"
      ]
    },
    {
      "cell_type": "code",
      "execution_count": null,
      "id": "9e7bf71f",
      "metadata": {
        "id": "9e7bf71f"
      },
      "outputs": [],
      "source": [
        "model = keras.models.Sequential([\n",
        "    keras.layers.Conv2D(64, 7, activation=keras.activations.relu, padding=\"same\", input_shape=[28, 28, 1]),\n",
        "    keras.layers.MaxPooling2D(pool_size=2),\n",
        "    keras.layers.Conv2D(128, 3, activation=keras.activations.relu, padding=\"same\"),\n",
        "    keras.layers.Conv2D(128, 3, activation=keras.activations.relu, padding=\"same\"),\n",
        "    keras.layers.MaxPooling2D(pool_size=2),\n",
        "    keras.layers.Conv2D(256, 3, activation=keras.activations.relu, padding=\"same\"),\n",
        "    keras.layers.Conv2D(256, 3, activation=keras.activations.relu, padding=\"same\"),\n",
        "    keras.layers.MaxPooling2D(pool_size=2),\n",
        "    keras.layers.Flatten(),\n",
        "    keras.layers.Dense(128, activation=keras.activations.relu),\n",
        "    keras.layers.Dropout(0.5),\n",
        "    keras.layers.Dense(64, activation=keras.activations.relu),\n",
        "    keras.layers.Dropout(0.5),\n",
        "    keras.layers.Dense(10, activation=keras.activations.softmax),\n",
        "])"
      ]
    },
    {
      "cell_type": "code",
      "execution_count": null,
      "id": "a4764c2b",
      "metadata": {
        "colab": {
          "base_uri": "https://localhost:8080/"
        },
        "id": "a4764c2b",
        "outputId": "fd709091-24aa-4c49-b796-a146e4796411"
      },
      "outputs": [],
      "source": [
        "model.summary()"
      ]
    },
    {
      "cell_type": "code",
      "execution_count": null,
      "id": "b1fb85f3",
      "metadata": {
        "id": "b1fb85f3"
      },
      "outputs": [],
      "source": [
        "model.compile(\n",
        "    loss=keras.losses.sparse_categorical_crossentropy,\n",
        "    optimizer=keras.optimizers.SGD(),\n",
        "    metrics=[keras.metrics.sparse_categorical_accuracy],\n",
        ")"
      ]
    },
    {
      "attachments": {},
      "cell_type": "markdown",
      "id": "0436e7b9",
      "metadata": {
        "id": "0436e7b9"
      },
      "source": [
        "## Entraînement du modèle"
      ]
    },
    {
      "cell_type": "code",
      "execution_count": null,
      "id": "8c73b662",
      "metadata": {
        "colab": {
          "base_uri": "https://localhost:8080/"
        },
        "id": "8c73b662",
        "outputId": "7daa4097-3feb-49d6-8535-b86eaa77cb03"
      },
      "outputs": [],
      "source": [
        "history = model.fit(X_train, y_train_full, epochs=10, validation_split=0.1)"
      ]
    },
    {
      "cell_type": "code",
      "execution_count": null,
      "id": "bb6c456e",
      "metadata": {
        "colab": {
          "base_uri": "https://localhost:8080/",
          "height": 356
        },
        "id": "bb6c456e",
        "outputId": "9cd7def3-9e3e-4a0b-ab75-aa3f3b72c96c"
      },
      "outputs": [],
      "source": [
        "pd.DataFrame(history.history).plot()\n",
        "plt.grid(True)"
      ]
    },
    {
      "cell_type": "code",
      "execution_count": null,
      "id": "751f36e7",
      "metadata": {
        "colab": {
          "base_uri": "https://localhost:8080/"
        },
        "id": "751f36e7",
        "outputId": "366a9452-716b-47af-e2cb-8a042a697f1e"
      },
      "outputs": [],
      "source": [
        "model.evaluate(X_test, y_test)"
      ]
    },
    {
      "attachments": {},
      "cell_type": "markdown",
      "id": "01bd4054",
      "metadata": {
        "id": "01bd4054"
      },
      "source": [
        "## Prédictions du modèle"
      ]
    },
    {
      "cell_type": "code",
      "execution_count": null,
      "id": "41815fe5",
      "metadata": {
        "id": "41815fe5"
      },
      "outputs": [],
      "source": [
        "y_pred_proba = model.predict(X_test[:3])\n",
        "y_pred = np.argmax(y_pred_proba, axis=1)"
      ]
    },
    {
      "cell_type": "code",
      "execution_count": null,
      "id": "dca57580",
      "metadata": {
        "colab": {
          "base_uri": "https://localhost:8080/"
        },
        "id": "dca57580",
        "outputId": "e8db0dff-82b5-425e-c874-fc8330e900ac"
      },
      "outputs": [],
      "source": [
        "y_pred_proba"
      ]
    },
    {
      "cell_type": "code",
      "execution_count": null,
      "id": "9aa0d05b",
      "metadata": {
        "colab": {
          "base_uri": "https://localhost:8080/"
        },
        "id": "9aa0d05b",
        "outputId": "1533396c-d8e9-43da-e450-162ee1c2ec17"
      },
      "outputs": [],
      "source": [
        "y_pred"
      ]
    },
    {
      "cell_type": "code",
      "execution_count": null,
      "id": "d1e70f21",
      "metadata": {
        "colab": {
          "base_uri": "https://localhost:8080/",
          "height": 134
        },
        "id": "d1e70f21",
        "outputId": "322f979a-89d5-4b36-dac4-cf4794248401"
      },
      "outputs": [],
      "source": [
        "plt.figure(figsize=(5, 1))\n",
        "for i in range(3):\n",
        "    ax = plt.subplot(1, 3, i + 1)\n",
        "    plt.imshow(X_test[i,:,:,0], cmap=\"binary\")\n",
        "    plt.title(class_names[y_pred[i]])\n",
        "    plt.axis(\"off\")"
      ]
    },
    {
      "attachments": {},
      "cell_type": "markdown",
      "id": "c48123e5",
      "metadata": {},
      "source": [
        "## Questions\n",
        "\n",
        "- De quel ordre de grandeur est la différence de temps d'exécution du processus d'entraînement du réseau de neurones convolutif entre architecture CPU et GPU ?\n",
        "- Même question pour le processus d'inférence ?\n",
        "- Qu'en pensez-vous ? En déduisez vous des problèmes potentiels ?"
      ]
    }
  ],
  "metadata": {
    "accelerator": "GPU",
    "colab": {
      "collapsed_sections": [],
      "name": "fashion_mnist_cnn.ipynb",
      "provenance": []
    },
    "kernelspec": {
      "display_name": "Python 3 (ipykernel)",
      "language": "python",
      "name": "python3"
    },
    "language_info": {
      "codemirror_mode": {
        "name": "ipython",
        "version": 3
      },
      "file_extension": ".py",
      "mimetype": "text/x-python",
      "name": "python",
      "nbconvert_exporter": "python",
      "pygments_lexer": "ipython3",
      "version": "3.9.9"
    }
  },
  "nbformat": 4,
  "nbformat_minor": 5
}
